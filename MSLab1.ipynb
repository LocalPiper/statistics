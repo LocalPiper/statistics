{
  "nbformat": 4,
  "nbformat_minor": 0,
  "metadata": {
    "colab": {
      "provenance": [],
      "authorship_tag": "ABX9TyNRkkQy/qoxMeAR4dp1PhY1",
      "include_colab_link": true
    },
    "kernelspec": {
      "name": "python3",
      "display_name": "Python 3"
    },
    "language_info": {
      "name": "python"
    }
  },
  "cells": [
    {
      "cell_type": "markdown",
      "metadata": {
        "id": "view-in-github",
        "colab_type": "text"
      },
      "source": [
        "<a href=\"https://colab.research.google.com/github/LocalPiper/statistics/blob/master/MSLab1.ipynb\" target=\"_parent\"><img src=\"https://colab.research.google.com/assets/colab-badge.svg\" alt=\"Open In Colab\"/></a>"
      ]
    },
    {
      "cell_type": "code",
      "source": [
        "import pandas as pd\n",
        "import numpy as np"
      ],
      "metadata": {
        "id": "deBsGDtUqgHU"
      },
      "execution_count": null,
      "outputs": []
    },
    {
      "cell_type": "code",
      "source": [
        "import matplotlib.pyplot as plt"
      ],
      "metadata": {
        "id": "-hgMp5qGptAf"
      },
      "execution_count": null,
      "outputs": []
    },
    {
      "cell_type": "code",
      "execution_count": null,
      "metadata": {
        "id": "GJp_maJVpkMS"
      },
      "outputs": [],
      "source": [
        "data = [ 2.34, 2.01,  2.06,  1.86,  1.13,  2.88,  2.33,  1.86,  2.06,  1.29,  2.45,  2.9 , 1.49,  1.94,  3.11,  1.79,  2.51, -0.1,   1.85,  1.49]"
      ]
    },
    {
      "cell_type": "code",
      "source": [
        "#задание №1: найти матожидание и дисперсию выборки\n",
        "#матожидание\n",
        "sum = 0\n",
        "for i in data:\n",
        "  sum += i\n",
        "math_expect = sum / len(data)\n",
        "\n",
        "#дисперсия\n",
        "sum = 0\n",
        "for i in data:\n",
        "  sum += pow(i, 2)\n",
        "dispersion = sum / len(data) - pow(math_expect, 2)\n",
        "\n",
        "print(\"Матожидание: \" + str(math_expect))\n",
        "print(\"Дисперсия: \" + str(dispersion))\n",
        "\n",
        "sum = 0\n",
        "for i in data:\n",
        "  sum += pow((i - math_expect), 2)\n",
        "var_disp = sum / len(data)\n",
        "print(\"Выборочная дисперсия: \" + str(var_disp))\n",
        "print(\"Несмещенная дисперсия: \" + str(var_disp * len(data) / (len(data) - 1)))\n",
        "\n",
        "#эталонные значения\n",
        "print(\"Матожидание через numpy: \" + str(np.array(data).mean()))\n",
        "print(\"Дисперсия чезез numpy: \" + str(np.array(data).var()))"
      ],
      "metadata": {
        "colab": {
          "base_uri": "https://localhost:8080/"
        },
        "id": "nVGAlfmSqAg2",
        "outputId": "dcd4e2fe-e3e4-4205-e602-c0f06b63dd0b"
      },
      "execution_count": null,
      "outputs": [
        {
          "output_type": "stream",
          "name": "stdout",
          "text": [
            "Матожидание: 1.9624999999999997\n",
            "Дисперсия: 0.4891687500000015\n",
            "Выборочная дисперсия: 0.48916875\n",
            "Несмещенная дисперсия: 0.5149144736842105\n",
            "Матожидание через numpy: 1.9625\n",
            "Дисперсия чезез numpy: 0.48916875\n"
          ]
        }
      ]
    },
    {
      "cell_type": "code",
      "source": [
        "#задание №2: построить вариационный ряд и эмпирическую функцию распределения\n",
        "#вариационный ряд\n",
        "var_array = sorted(data)\n",
        "print(\"Вариационный ряд: \")\n",
        "var_seq_nums = \"\"\n",
        "for i in range(len(var_array)):\n",
        "  var_seq_nums += \"{:6.2f}\".format(var_array[i])\n",
        "print(var_seq_nums)\n",
        "\n",
        "#эмпирическая функция распределения\n",
        "'''\n",
        "sum = 0\n",
        "edf_array = []\n",
        "\n",
        "used = []\n",
        "for var in var_array:\n",
        "  if var not in used:\n",
        "    edf_array.append(var_array.count(var) / len(var_array))\n",
        "    used.append(var)\n",
        "\n",
        "cum_sum = 0\n",
        "cum_sum_array = []\n",
        "for var in edf_array:\n",
        "  cum_sum += var\n",
        "  cum_sum_array.append(round(cum_sum, 3))\n",
        "\n",
        "\n",
        "#plt.plot(used, cum_sum_array, color=\"red\")\n",
        "\n",
        "plt.yticks(range(1, len(var_array) + 1))\n",
        "plt.hist(var_array, histtype=\"step\", cumulative=True, bins=len(var_array))\n",
        "plt.title(\"Эмпирическая функция распределения\")\n",
        "\n",
        "'''\n",
        "print(\"Эмпирическая функция распределения\")\n",
        "vals = []\n",
        "for i in range(len(var_array)):\n",
        "  vals.append(len([x for x in var_array if x < var_array[i]]) / len(var_array))\n",
        "\n",
        "var_array.append(max(var_array) + 1)\n",
        "for i in range(len(vals)):\n",
        "  plt.plot([var_array[i], var_array[i+1]], [vals[i], vals[i]], color=\"blue\")"
      ],
      "metadata": {
        "colab": {
          "base_uri": "https://localhost:8080/",
          "height": 482
        },
        "id": "Zy3yvfdksHld",
        "outputId": "d0d01c35-1a3b-4e3d-b2b4-0a694298277c"
      },
      "execution_count": null,
      "outputs": [
        {
          "output_type": "stream",
          "name": "stdout",
          "text": [
            "Вариационный ряд: \n",
            " -0.10  1.13  1.29  1.49  1.49  1.79  1.85  1.86  1.86  1.94  2.01  2.06  2.06  2.33  2.34  2.45  2.51  2.88  2.90  3.11\n",
            "Эмпирическая функция распределения\n"
          ]
        },
        {
          "output_type": "display_data",
          "data": {
            "text/plain": [
              "<Figure size 640x480 with 1 Axes>"
            ],
            "image/png": "[encoded data removed]"
          },
          "metadata": {}
        }
      ]
    }
  ]
}