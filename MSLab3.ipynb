{
  "nbformat": 4,
  "nbformat_minor": 0,
  "metadata": {
    "colab": {
      "provenance": [],
      "authorship_tag": "ABX9TyN5CIdTAy5jvm8fj4vS1FrH",
      "include_colab_link": true
    },
    "kernelspec": {
      "name": "python3",
      "display_name": "Python 3"
    },
    "language_info": {
      "name": "python"
    }
  },
  "cells": [
    {
      "cell_type": "markdown",
      "metadata": {
        "id": "view-in-github",
        "colab_type": "text"
      },
      "source": [
        "<a href=\"https://colab.research.google.com/github/LocalPiper/statistics/blob/master/MSLab3.ipynb\" target=\"_parent\"><img src=\"https://colab.research.google.com/assets/colab-badge.svg\" alt=\"Open In Colab\"/></a>"
      ]
    },
    {
      "cell_type": "code",
      "execution_count": null,
      "metadata": {
        "id": "KcUSRGBmwZp_"
      },
      "outputs": [],
      "source": [
        "x = [\n",
        "        0.38,\n",
        "        0.6,\n",
        "        0.28,\n",
        "        0.49,\n",
        "        0.09,\n",
        "        0.68,\n",
        "        0.36,\n",
        "        0.62,\n",
        "        0.32,\n",
        "        0.37,\n",
        "        0.04,\n",
        "        0.01,\n",
        "        0.24,\n",
        "        0.01,\n",
        "        0.19,\n",
        "        0.17,\n",
        "        0.03,\n",
        "        0.54,\n",
        "        0.11,\n",
        "        0.0,\n",
        "        0.02,\n",
        "        0.74,\n",
        "        0.06,\n",
        "        1.42,\n",
        "        0.22,\n",
        "        0.24,\n",
        "        0.04,\n",
        "        0.52,\n",
        "        0.02,\n",
        "        0.04,\n",
        "        0.39,\n",
        "        0.79,\n",
        "        1.01,\n",
        "        0.13,\n",
        "        0.58,\n",
        "        0.04,\n",
        "        0.04,\n",
        "        0.63,\n",
        "        0.05,\n",
        "        0.15,\n",
        "        0.49,\n",
        "        0.79,\n",
        "        0.27,\n",
        "        0.64,\n",
        "        0.06,\n",
        "        0.98,\n",
        "        1.65,\n",
        "        0.02,\n",
        "        0.01,\n",
        "        0.02,\n",
        "        0.08,\n",
        "        0.76,\n",
        "        1.02,\n",
        "        0.6,\n",
        "        0.33,\n",
        "        0.04,\n",
        "        0.13,\n",
        "        1.29,\n",
        "        1.79,\n",
        "        1.62,\n",
        "        0.37,\n",
        "        0.03,\n",
        "        1.66,\n",
        "        0.4,\n",
        "        0.23,\n",
        "        0.01,\n",
        "        0.13,\n",
        "        0.05,\n",
        "        0.2,\n",
        "        0.28,\n",
        "        0.35,\n",
        "        0.69,\n",
        "        0.18,\n",
        "        0.33,\n",
        "        0.57,\n",
        "        1.77,\n",
        "        0.46,\n",
        "        0.82,\n",
        "        0.49,\n",
        "        0.18,\n",
        "        0.27,\n",
        "        0.14,\n",
        "        0.53,\n",
        "        0.06,\n",
        "        1.18,\n",
        "        1.34,\n",
        "        0.69,\n",
        "        0.18,\n",
        "        0.83,\n",
        "        0.38,\n",
        "        0.36,\n",
        "        0.12,\n",
        "        0.2,\n",
        "        0.07,\n",
        "        0.05,\n",
        "        0.69,\n",
        "        0.47,\n",
        "        0.19,\n",
        "        0.19,\n",
        "        1.51\n",
        "    ]\n",
        "eps = 0.05\n",
        "lam = 2.45\n",
        "k = 10"
      ]
    },
    {
      "cell_type": "markdown",
      "source": [
        "Имеем такой набор гипотез при $λ_0 = 2.45:$ \\\\\n",
        "$H_1 : X ∼ Exp(\\lambda = \\lambda_0)$ \\\\\n",
        "$H_2 : X ∼ Exp(\\lambda \\neq \\lambda_0)$"
      ],
      "metadata": {
        "id": "I6qviAkH2q7H"
      }
    },
    {
      "cell_type": "code",
      "source": [
        "import numpy as np\n",
        "# по таблице Пирсона найдем c\n",
        "c = 16.919 # для eps = 0.05, k = 10\n",
        "mn = min(x) # 0.0\n",
        "mx = max(x) # 1.79, что примерно равно 1.8\n",
        "\n",
        "h = ((mx + 0.01) + mn) / k\n",
        "print(h)\n",
        "upper_bound_intervals = [round(mn + i * h, 2) for i in range(1, k + 1)]\n",
        "\n",
        "nu = [0 for i in range(k)]\n",
        "for xi in x:\n",
        "  i = 0\n",
        "  for ub in range(len(upper_bound_intervals)):\n",
        "    if xi < upper_bound_intervals[ub]:\n",
        "      nu[ub] += 1\n",
        "      break\n",
        "    i += 1\n",
        "\n",
        "rho = []\n",
        "n = len(x)\n",
        "upper_bound_intervals.insert(0, 0)\n",
        "\n",
        "for i in range(len(nu)):\n",
        "  a = upper_bound_intervals[i]\n",
        "  b = upper_bound_intervals[i + 1]\n",
        "  Fa = 1 - pow(np.e, -lam * a)\n",
        "  Fb = 1 - pow(np.e, -lam * b)\n",
        "  p_i = Fb - Fa\n",
        "  rho.append((nu[i] -  n * p_i)**2 / (n * p_i))\n",
        "c_star = sum(rho)\n",
        "print(\"c* = \" + str(c_star))\n",
        "print(\"H1 = \" + str(c_star < c))"
      ],
      "metadata": {
        "colab": {
          "base_uri": "https://localhost:8080/"
        },
        "id": "8r-JsOAvwqdh",
        "outputId": "f7a41037-fc40-4538-c686-91c270e942c3"
      },
      "execution_count": null,
      "outputs": [
        {
          "output_type": "stream",
          "name": "stdout",
          "text": [
            "0.18\n",
            "c* = 31.206829874781732\n",
            "H1 = False\n"
          ]
        }
      ]
    },
    {
      "cell_type": "markdown",
      "source": [
        "Следовательно, гипотеза о том, что данная выборка имеет экспоненциальное распределение, опровергается."
      ],
      "metadata": {
        "id": "OsfGoCY16265"
      }
    }
  ]
}