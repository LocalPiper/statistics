{
  "nbformat": 4,
  "nbformat_minor": 0,
  "metadata": {
    "colab": {
      "provenance": [],
      "authorship_tag": "ABX9TyPNV5vJKgUpIB2aAjyni96c",
      "include_colab_link": true
    },
    "kernelspec": {
      "name": "python3",
      "display_name": "Python 3"
    },
    "language_info": {
      "name": "python"
    }
  },
  "cells": [
    {
      "cell_type": "markdown",
      "metadata": {
        "id": "view-in-github",
        "colab_type": "text"
      },
      "source": [
        "<a href=\"https://colab.research.google.com/github/LocalPiper/statistics/blob/master/MSLab2.ipynb\" target=\"_parent\"><img src=\"https://colab.research.google.com/assets/colab-badge.svg\" alt=\"Open In Colab\"/></a>"
      ]
    },
    {
      "cell_type": "code",
      "execution_count": null,
      "metadata": {
        "id": "-BLLR6RucgB2"
      },
      "outputs": [],
      "source": [
        "X = [\n",
        "        9,\n",
        "        12,\n",
        "        6,\n",
        "        11,\n",
        "        6,\n",
        "        7,\n",
        "        7,\n",
        "        6,\n",
        "        6,\n",
        "        13,\n",
        "        5,\n",
        "        9,\n",
        "        9,\n",
        "        9,\n",
        "        15,\n",
        "        5,\n",
        "        5,\n",
        "        10,\n",
        "        11,\n",
        "        0,\n",
        "        8,\n",
        "        8,\n",
        "        8,\n",
        "        7,\n",
        "        7,\n",
        "        8,\n",
        "        6,\n",
        "        6,\n",
        "        8,\n",
        "        7,\n",
        "        10,\n",
        "        4,\n",
        "        15,\n",
        "        8,\n",
        "        5,\n",
        "        7,\n",
        "        7,\n",
        "        10,\n",
        "        8,\n",
        "        8,\n",
        "        9,\n",
        "        9,\n",
        "        9,\n",
        "        7,\n",
        "        10,\n",
        "        8,\n",
        "        8,\n",
        "        7,\n",
        "        11,\n",
        "        3\n",
        "    ]"
      ]
    },
    {
      "cell_type": "markdown",
      "source": [
        "Т.к. дано распределение Пуассона, имеем:\n",
        "$P(X=k) = \\frac{λ^k e^{-λ}}{k!}$\n",
        "\n",
        "Функция правдоподобия имеет вид:\n",
        "$L(\\theta) = ∏P(X_i)=∏\\frac{\\theta^{X_i} e^{-\\theta}}{X_i!}$\n",
        "\n",
        "Пусть $|X|$  - размер выборки. Тогда:\n",
        "$L(\\theta) = ∏\\frac{\\theta^{X_i} e^{-\\theta}}{X_i!} = \\frac{\\theta^{∑X_i} e^{-|X|\\theta}}{∏X_i!}$\n",
        "\n",
        "Возьмем $\\ln L(\\theta)$. Тогда:\n",
        "\n",
        "$\\ln L(\\theta) = \\ln (\\frac{\\theta^{∑X_i} e^{-|X|\\theta}}{∏X_i!}) = \\ln \\theta^{∑X_i} + \\ln e^{-|X|\\theta} - \\ln ∏X_i! = ∑X_i \\ln \\theta - |X|\\theta - \\ln ∏X_i!$\n",
        "\n",
        "Вычислим производную $\\frac{δ\\ln L(\\theta)}{δ\\theta}$:\n",
        "\n",
        "$\\frac{δ\\ln L(\\theta)}{δ\\theta} = \\frac{∑X_i}{\\theta} - |X| = 0$\n",
        "\n",
        "Отсюда находим $\\theta = \\frac{∑X_i}{|X|}$"
      ],
      "metadata": {
        "id": "8fa5Z1ngrfMF"
      }
    },
    {
      "cell_type": "code",
      "source": [
        "theta = sum(xi for xi in X)/len(X)\n",
        "print(\"θ = \" + str(theta))\n",
        "print(\"Условие выполняется? \" + str((- sum(xi for xi in X) / theta**2) < 0))"
      ],
      "metadata": {
        "colab": {
          "base_uri": "https://localhost:8080/"
        },
        "id": "AdJI_XZ2hKqr",
        "outputId": "5b478625-b35f-46fd-ba17-2da6c641ae1c"
      },
      "execution_count": null,
      "outputs": [
        {
          "output_type": "stream",
          "name": "stdout",
          "text": [
            "θ = 7.94\n",
            "Условие выполняется? True\n"
          ]
        }
      ]
    },
    {
      "cell_type": "markdown",
      "source": [
        "Необходимо найти $(T_1, T_2)$ при $\\alpha = 0.95$\n",
        "\n",
        "Имеем: $Y = ∑ X_i$.\n",
        "\n",
        "Тогда $\\frac{Y - |X|\\theta}{\\sqrt{|X|\\theta}} = \\sqrt{|X|}\\frac{\\overline{X} -\\theta}{\\sqrt{\\theta}}$\n",
        "\n",
        "$P(-c < \\sqrt{|X|}\\frac{\\overline{X} -\\theta}{\\sqrt{\\theta}} < c)$\n",
        "\n",
        "$-c < \\sqrt{|X|}\\frac{\\overline{X} -\\theta}{\\sqrt{\\theta}} < c$\n",
        "\n",
        "$\\frac{-c}{\\sqrt{|X|}} < \\frac{\\overline{X} -\\theta}{\\sqrt{\\theta}} < \\frac{c}{\\sqrt{|X|}}$\n",
        "\n",
        "$\\frac{(\\overline{X} -\\theta)^2}{\\theta} < \\frac{c^2}{|X|}$\n",
        "\n",
        "$(\\overline{X} -\\theta)^2 < \\frac{c^2\\theta}{|X|}$\n",
        "\n",
        "$(\\overline{X})^2 - 2\\theta \\overline{X} + \\theta^2 - \\frac{c^2\\theta}{|X|} < 0$\n",
        "\n",
        "$\\theta^2 - (2\\overline{X} + \\frac{c^2}{|X|})\\theta + \\overline{X}^2 < 0$\n",
        "\n",
        "$D =  (2\\overline{X} + \\frac{c^2}{|X|})^2 - 4(\\overline{X})^2 = 4\\overline{X}^2 + 4\\overline{X}\\frac{c^2}{|X|} + \\frac{c^4}{|X|^2} - 4\\overline{X}^2 = 4\\overline{X}\\frac{c^2}{|X|} + \\frac{c^4}{|X|^2}> 0$\n",
        "\n",
        "Тогда имеем:\n",
        "\n",
        "$T_{1,2} = \\frac{2\\overline{X} +\\frac{c^2}{|X|} ± \\sqrt{\\frac{c^2}{|X|} (4\\overline{X} +\\frac{c^2}{|X|})}}{2}$\n",
        "\n",
        "Следовательно, доверительный интервал для $\\theta$ выглядит так:\n",
        "\n",
        "$(\\frac{2\\overline{X} +\\frac{c^2}{|X|} - \\sqrt{\\frac{c^2}{|X|} (4\\overline{X} +\\frac{c^2}{|X|})}}{2},\\frac{2\\overline{X} +\\frac{c^2}{|X|} + \\sqrt{\\frac{c^2}{|X|} (4\\overline{X} +\\frac{c^2}{|X|}}}{2})$\n",
        "\n",
        "$Φ(c) = \\frac{\\alpha}{2}, \\alpha=0.95, c =1.96$"
      ],
      "metadata": {
        "id": "W8wFZQVpBAnk"
      }
    },
    {
      "cell_type": "code",
      "source": [
        "import math\n",
        "alpha = 0.95\n",
        "Y = sum([xi for xi in X])\n",
        "N = len(X)\n",
        "x_mid = Y/N\n",
        "c = 1.96\n",
        "left = (2*x_mid + c**2/N - math.sqrt(c**2/N * (4*x_mid + c**2/N)))/2\n",
        "right = (2*x_mid + c**2/N + math.sqrt(c**2/N * (4*x_mid + c**2/N)))/2\n",
        "print(\"Доверительный интервал: \" +\"(\" + str(left) + \", \" + str(right) + \")\")"
      ],
      "metadata": {
        "colab": {
          "base_uri": "https://localhost:8080/"
        },
        "id": "H1j_rC81s_Ir",
        "outputId": "b217407a-b0de-4465-d771-0067bd38d6f9"
      },
      "execution_count": null,
      "outputs": [
        {
          "output_type": "stream",
          "name": "stdout",
          "text": [
            "Доверительный интервал: (7.196417362497351, 8.760414637502649)\n"
          ]
        }
      ]
    }
  ]
}