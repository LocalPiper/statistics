{
  "nbformat": 4,
  "nbformat_minor": 0,
  "metadata": {
    "colab": {
      "provenance": [],
      "authorship_tag": "ABX9TyPaH3/5WWpZ+5/L9HYh+lrR",
      "include_colab_link": true
    },
    "kernelspec": {
      "name": "python3",
      "display_name": "Python 3"
    },
    "language_info": {
      "name": "python"
    }
  },
  "cells": [
    {
      "cell_type": "markdown",
      "metadata": {
        "id": "view-in-github",
        "colab_type": "text"
      },
      "source": [
        "<a href=\"https://colab.research.google.com/github/LocalPiper/statistics/blob/master/MSLab4.ipynb\" target=\"_parent\"><img src=\"https://colab.research.google.com/assets/colab-badge.svg\" alt=\"Open In Colab\"/></a>"
      ]
    },
    {
      "cell_type": "code",
      "execution_count": null,
      "metadata": {
        "id": "zjA6s-gw1uHC"
      },
      "outputs": [],
      "source": [
        "x = [\n",
        "        1.0,\n",
        "        1.1,\n",
        "        1.2,\n",
        "        1.3,\n",
        "        1.4,\n",
        "        1.5,\n",
        "        1.6,\n",
        "        1.7,\n",
        "        1.8,\n",
        "        1.9,\n",
        "        2.0,\n",
        "        2.1,\n",
        "        2.2,\n",
        "        2.3,\n",
        "        2.4,\n",
        "        2.5,\n",
        "        2.6,\n",
        "        2.7,\n",
        "        2.8,\n",
        "        2.9\n",
        "    ]\n",
        "t = [\n",
        "        2.0,\n",
        "        1.8,\n",
        "        1.6,\n",
        "        1.6,\n",
        "        1.4,\n",
        "        1.0,\n",
        "        1.1,\n",
        "        1.0,\n",
        "        1.1,\n",
        "        1.0,\n",
        "        1.1,\n",
        "        1.0,\n",
        "        1.1,\n",
        "        1.1,\n",
        "        1.1,\n",
        "        1.2,\n",
        "        1.4,\n",
        "        1.3,\n",
        "        1.7,\n",
        "        1.9\n",
        "]"
      ]
    },
    {
      "cell_type": "code",
      "source": [
        "def mult(A, B):\n",
        "    if len(A[0]) != len(B):\n",
        "        raise ValueError(\"Invalid matrix dimensions\")\n",
        "\n",
        "    result = [[0 for j in range(len(B[0]))] for i in range(len(A))]\n",
        "    def multiply(A, B, result, i, j, k):\n",
        "        if i >= len(A):\n",
        "            return\n",
        "        if j >= len(B[0]):\n",
        "            return multiply(A, B, result, i+1, 0, 0)\n",
        "        if k >= len(B):\n",
        "            return multiply(A, B, result, i, j+1, 0)\n",
        "        result[i][j] += A[i][k] * B[k][j]\n",
        "        multiply(A, B, result, i, j, k+1)\n",
        "\n",
        "    multiply(A, B, result, 0, 0, 0)\n",
        "    return result\n",
        "\n",
        "\n",
        "import numpy as np\n",
        "def backward(a):\n",
        "  # det = a[0][0]*a[1][1]*a[2][2]+a[0][1]*a[1][2]*a[2][0]+a[0][2]*a[1][0]*a[2][1]- a[2][0]*a[1][1]*a[0][2]-a[2][1]*a[1][2]*a[0][0]-a[2][2]*a[1][0]*a[0][1]\n",
        "  b = np.linalg.inv(a)\n",
        "  return b\n",
        "\n",
        "matrix = []\n",
        "for i in range(len(x)):\n",
        "  row = []\n",
        "  for j in range(3):\n",
        "    row.append(pow(x[i], j))\n",
        "  matrix.append(row)\n",
        "\n",
        "print(\"Матрица плана: \" )\n",
        "\n",
        "print(np.array(matrix))\n",
        "\n",
        "transposed_matrix = [[0 for j in range(len(matrix))] for i in range(len(matrix[0]))]\n",
        "\n",
        "\n",
        "for i in range(len(matrix)):\n",
        "  for j in range(len(matrix[0])):\n",
        "    transposed_matrix[j][i] = matrix[i][j]\n",
        "\n",
        "A = mult(transposed_matrix, matrix)\n",
        "B = backward(A)\n",
        "C = mult(B, transposed_matrix)\n",
        "\n",
        "D = []\n",
        "\n",
        "for i in range(len(C)):\n",
        "  sum = 0\n",
        "  for j in range(len(t)):\n",
        "    sum += C[i][j] * t[j]\n",
        "  D.append(sum)\n",
        "\n",
        "print(\"Полученные коэффициенты:\")\n",
        "print(D)\n",
        "\n",
        "def f(D, xi):\n",
        "  return D[0] + D[1] * xi + D[2] * xi * xi\n",
        "\n",
        "import matplotlib.pyplot as plt\n",
        "\n",
        "y = []\n",
        "for i in range(len(x)):\n",
        "  y.append(f(D, x[i]))\n",
        "\n",
        "\n",
        "plt.plot(x, y)\n",
        "plt.scatter(x, t, color='red')\n",
        "\n",
        "\n",
        "n = len(x)\n",
        "sum = 0\n",
        "for i in range(n):\n",
        "  sum += pow(t[i] - y[i], 2)\n",
        "\n",
        "MSE = 1/n * sum\n",
        "RMSE = np.sqrt(MSE)\n",
        "print(\"Значение MSE: \" + str(MSE))\n",
        "print(\"Значение RMSE: \" + str(RMSE))"
      ],
      "metadata": {
        "colab": {
          "base_uri": "https://localhost:8080/",
          "height": 864
        },
        "id": "CReStugI2FW-",
        "outputId": "5a06238d-e633-4491-ea28-cc01b0f8f9b1"
      },
      "execution_count": null,
      "outputs": [
        {
          "output_type": "stream",
          "name": "stdout",
          "text": [
            "Матрица плана: \n",
            "[[1.   1.   1.  ]\n",
            " [1.   1.1  1.21]\n",
            " [1.   1.2  1.44]\n",
            " [1.   1.3  1.69]\n",
            " [1.   1.4  1.96]\n",
            " [1.   1.5  2.25]\n",
            " [1.   1.6  2.56]\n",
            " [1.   1.7  2.89]\n",
            " [1.   1.8  3.24]\n",
            " [1.   1.9  3.61]\n",
            " [1.   2.   4.  ]\n",
            " [1.   2.1  4.41]\n",
            " [1.   2.2  4.84]\n",
            " [1.   2.3  5.29]\n",
            " [1.   2.4  5.76]\n",
            " [1.   2.5  6.25]\n",
            " [1.   2.6  6.76]\n",
            " [1.   2.7  7.29]\n",
            " [1.   2.8  7.84]\n",
            " [1.   2.9  8.41]]\n",
            "Полученные коэффициенты:\n",
            "[5.056275917065565, -4.088824333561355, 1.0258601048075104]\n",
            "Значение MSE: 0.007923177261335127\n",
            "Значение RMSE: 0.08901223096482375\n"
          ]
        },
        {
          "output_type": "display_data",
          "data": {
            "text/plain": [
              "<Figure size 640x480 with 1 Axes>"
            ],
            "image/png": "[encoded data removed]"
          },
          "metadata": {}
        }
      ]
    }
  ]
}